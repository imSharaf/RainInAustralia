{
 "cells": [
  {
   "cell_type": "code",
   "execution_count": 29,
   "id": "86b84be2",
   "metadata": {},
   "outputs": [],
   "source": [
    "import numpy as np \n",
    "import pandas as pd \n",
    "from matplotlib import pyplot as plt \n",
    "import seaborn as sns \n",
    "from scipy import stats"
   ]
  },
  {
   "cell_type": "code",
   "execution_count": 30,
   "id": "83649e31",
   "metadata": {},
   "outputs": [],
   "source": [
    "df = pd.read_csv('weatherAUS.csv')"
   ]
  },
  {
   "cell_type": "code",
   "execution_count": 31,
   "id": "0df5a658",
   "metadata": {},
   "outputs": [
    {
     "data": {
      "text/plain": [
       "Date              0.000000\n",
       "Location          0.000000\n",
       "MinTemp           1.020899\n",
       "MaxTemp           0.866905\n",
       "Rainfall          2.241853\n",
       "Evaporation      43.166506\n",
       "Sunshine         48.009762\n",
       "WindGustDir       7.098859\n",
       "WindGustSpeed     7.055548\n",
       "WindDir9am        7.263853\n",
       "WindDir3pm        2.906641\n",
       "WindSpeed9am      1.214767\n",
       "WindSpeed3pm      2.105046\n",
       "Humidity9am       1.824557\n",
       "Humidity3pm       3.098446\n",
       "Pressure9am      10.356799\n",
       "Pressure3pm      10.331363\n",
       "Cloud9am         38.421559\n",
       "Cloud3pm         40.807095\n",
       "Temp9am           1.214767\n",
       "Temp3pm           2.481094\n",
       "RainToday         2.241853\n",
       "RainTomorrow      2.245978\n",
       "dtype: float64"
      ]
     },
     "execution_count": 31,
     "metadata": {},
     "output_type": "execute_result"
    }
   ],
   "source": [
    "df.isnull().mean()*100"
   ]
  },
  {
   "cell_type": "markdown",
   "id": "8132a979",
   "metadata": {},
   "source": [
    "Removing the most null value columns"
   ]
  },
  {
   "cell_type": "code",
   "execution_count": 32,
   "id": "e946870b",
   "metadata": {},
   "outputs": [],
   "source": [
    "df['Date'] = pd.to_datetime(df['Date'])\n",
    "df['Month'] = df['Date'].dt.month\n",
    "df['Year'] = df['Date'].dt.year\n",
    "df.drop(columns=['Date'], inplace=True)\n",
    "df.dropna(subset=['MinTemp', 'MaxTemp', 'Rainfall', 'WindDir3pm', 'WindSpeed9am', 'WindSpeed3pm', 'Humidity9am', 'Temp9am', 'Temp3pm', 'RainToday', 'RainTomorrow'], inplace=True)"
   ]
  },
  {
   "cell_type": "code",
   "execution_count": 33,
   "id": "f4cf3a94",
   "metadata": {},
   "outputs": [
    {
     "name": "stdout",
     "output_type": "stream",
     "text": [
      "Outlier in MinTemp column is 49 in percentage of 0.04\n",
      "Outlier in MaxTemp column is 359 in percentage of 0.27\n",
      "Outlier in Rainfall column is 27081 in percentage of 20.10\n",
      "Outlier in Evaporation column is 1891 in percentage of 1.40\n",
      "Outlier in Sunshine column is 0 in percentage of 0.00\n",
      "Outlier in WindGustSpeed column is 2896 in percentage of 2.15\n",
      "Outlier in WindSpeed9am column is 1654 in percentage of 1.23\n",
      "Outlier in WindSpeed3pm column is 2399 in percentage of 1.78\n",
      "Outlier in Humidity9am column is 1404 in percentage of 1.04\n",
      "Outlier in Humidity3pm column is 0 in percentage of 0.00\n",
      "Outlier in Pressure9am column is 1233 in percentage of 0.92\n",
      "Outlier in Pressure3pm column is 972 in percentage of 0.72\n",
      "Outlier in Cloud9am column is 0 in percentage of 0.00\n",
      "Outlier in Cloud3pm column is 0 in percentage of 0.00\n",
      "Outlier in Temp9am column is 226 in percentage of 0.17\n",
      "Outlier in Temp3pm column is 608 in percentage of 0.45\n",
      "Outlier in Month column is 0 in percentage of 0.00\n",
      "Outlier in Year column is 0 in percentage of 0.00\n"
     ]
    }
   ],
   "source": [
    "def outlier_detection(col):\n",
    "    q1 = df[col].quantile(0.25)\n",
    "    q3 = df[col].quantile(0.75)\n",
    "    iqr = q3 - q1 \n",
    "    lower_limit = q1 - 1.5*iqr \n",
    "    upper_limit = q3 + 1.5*iqr \n",
    "    total_outlier = df[(df[col]<lower_limit) | (df[col]>upper_limit)].shape[0]\n",
    "    total_datapoints = df.shape[0]\n",
    "    print(f'Outlier in {col} column is {total_outlier} in percentage of {((total_outlier/total_datapoints)*100):.2f}')\n",
    "\n",
    "cols = df.select_dtypes(include=['int', 'float']).columns\n",
    "for i in cols:\n",
    "    outlier_detection(i)"
   ]
  },
  {
   "cell_type": "code",
   "execution_count": null,
   "id": "497f0c84",
   "metadata": {},
   "outputs": [],
   "source": [
    "def outlier_fixation(col):\n",
    "    q1 = df[col].quantile(0.25)\n",
    "    q3 = df[col].quantile(0.75)\n",
    "    iqr = q3 - q1 \n",
    "    lower_limit = q1 - 1.5*iqr \n",
    "    upper_limit = q3 + 1.5*iqr \n",
    "    df[col] = np.where(df[col] > upper_limit, upper_limit, np.where(df[col] < lower_limit, lower_limit, df[col]))\n",
    "\n",
    "cols = df.select_dtypes(include=['int', 'float']).columns\n",
    "for i in cols:\n",
    "    if i == 'Rainfall':\n",
    "        continue\n",
    "    outlier_fixation(i)\n",
    "df = df.copy()"
   ]
  },
  {
   "cell_type": "code",
   "execution_count": 44,
   "id": "27f142ae",
   "metadata": {},
   "outputs": [
    {
     "name": "stdout",
     "output_type": "stream",
     "text": [
      "Outlier in MinTemp column is 0 in percentage of 0.00\n",
      "Outlier in MaxTemp column is 0 in percentage of 0.00\n",
      "Outlier in Rainfall column is 27081 in percentage of 20.10\n",
      "Outlier in Evaporation column is 0 in percentage of 0.00\n",
      "Outlier in Sunshine column is 0 in percentage of 0.00\n",
      "Outlier in WindGustSpeed column is 0 in percentage of 0.00\n",
      "Outlier in WindSpeed9am column is 0 in percentage of 0.00\n",
      "Outlier in WindSpeed3pm column is 0 in percentage of 0.00\n",
      "Outlier in Humidity9am column is 0 in percentage of 0.00\n",
      "Outlier in Humidity3pm column is 0 in percentage of 0.00\n",
      "Outlier in Pressure9am column is 0 in percentage of 0.00\n",
      "Outlier in Pressure3pm column is 0 in percentage of 0.00\n",
      "Outlier in Cloud9am column is 0 in percentage of 0.00\n",
      "Outlier in Cloud3pm column is 0 in percentage of 0.00\n",
      "Outlier in Temp9am column is 0 in percentage of 0.00\n",
      "Outlier in Temp3pm column is 0 in percentage of 0.00\n",
      "Outlier in Month column is 0 in percentage of 0.00\n",
      "Outlier in Year column is 0 in percentage of 0.00\n"
     ]
    }
   ],
   "source": [
    "def outlier_detection(col):\n",
    "    q1 = df[col].quantile(0.25)\n",
    "    q3 = df[col].quantile(0.75)\n",
    "    iqr = q3 - q1 \n",
    "    lower_limit = q1 - 1.5*iqr \n",
    "    upper_limit = q3 + 1.5*iqr \n",
    "    total_outlier = df[(df[col]<lower_limit) | (df[col]>upper_limit)].shape[0]\n",
    "    total_datapoints = df.shape[0]\n",
    "    print(f'Outlier in {col} column is {total_outlier} in percentage of {((total_outlier/total_datapoints)*100):.2f}')\n",
    "\n",
    "cols = df.select_dtypes(include=['int', 'float']).columns\n",
    "for i in cols:\n",
    "    outlier_detection(i)"
   ]
  },
  {
   "cell_type": "code",
   "execution_count": 45,
   "id": "f26e8cb9",
   "metadata": {},
   "outputs": [],
   "source": [
    "from sklearn.model_selection import train_test_split \n",
    "x_train, x_test, y_train, y_test = train_test_split(df.drop(columns=['RainTomorrow']), df['RainTomorrow'], test_size=0.2, random_state=42)"
   ]
  },
  {
   "cell_type": "code",
   "execution_count": 100,
   "id": "e8ef7fef",
   "metadata": {},
   "outputs": [
    {
     "name": "stdout",
     "output_type": "stream",
     "text": [
      "Test Accuracy: 0.8539038147543417\n",
      "Train Accuracy: 0.8549136755387741\n",
      "[[19921  1141]\n",
      " [ 2796  3090]]\n"
     ]
    }
   ],
   "source": [
    "from sklearn.compose import ColumnTransformer\n",
    "from sklearn.pipeline import Pipeline\n",
    "from sklearn.experimental import enable_iterative_imputer\n",
    "from sklearn.impute import KNNImputer, SimpleImputer, IterativeImputer\n",
    "from sklearn.preprocessing import MinMaxScaler, PowerTransformer, OneHotEncoder\n",
    "from sklearn.preprocessing import KBinsDiscretizer\n",
    "import numpy as np\n",
    "\n",
    "x_train['Rainfall_bin'] = np.nan\n",
    "x_test['Rainfall_bin'] = np.nan\n",
    "\n",
    "train_zero_mask = x_train['Rainfall'] == 0.0\n",
    "train_nonzero_mask = x_train['Rainfall'] > 0.0\n",
    "test_zero_mask = x_test['Rainfall'] == 0.0\n",
    "test_nonzero_mask = x_test['Rainfall'] > 0.0\n",
    "\n",
    "rainfall_binner = KBinsDiscretizer(n_bins=3, encode='ordinal', strategy='quantile')\n",
    "\n",
    "x_train.loc[train_zero_mask, 'Rainfall_bin'] = 0\n",
    "x_test.loc[test_zero_mask, 'Rainfall_bin'] = 0\n",
    "\n",
    "x_train.loc[train_nonzero_mask, 'Rainfall_bin'] = rainfall_binner.fit_transform(x_train.loc[train_nonzero_mask, ['Rainfall']]).flatten() + 1\n",
    "x_test.loc[test_nonzero_mask, 'Rainfall_bin'] = rainfall_binner.transform(x_test.loc[test_nonzero_mask, ['Rainfall']]).flatten() + 1\n",
    "\n",
    "x_train['Rainfall_bin'] = x_train['Rainfall_bin'].astype(int)\n",
    "x_test['Rainfall_bin'] = x_test['Rainfall_bin'].astype(int)\n",
    "\n",
    "continuous_pipeline = Pipeline([\n",
    "    ('imputer', IterativeImputer(max_iter=1000, tol=0.001)),\n",
    "    ('transformer', PowerTransformer()),\n",
    "    ('scaler', MinMaxScaler())\n",
    "])\n",
    "\n",
    "categorical_pipeline = Pipeline([\n",
    "    ('encoder', OneHotEncoder(sparse_output=False)),\n",
    "    ('imputer', KNNImputer())\n",
    "])\n",
    "\n",
    "imputation = ColumnTransformer([\n",
    "    ('ContinuousPipeline', continuous_pipeline, x_train.select_dtypes(include=['int', 'float']).drop(columns=['Rainfall', 'Rainfall_bin']).columns),\n",
    "    ('CategoricalPipeline', categorical_pipeline, x_train.select_dtypes(include='object').columns)\n",
    "], remainder='passthrough')\n",
    "\n",
    "x_train_trf1 = imputation.fit_transform(x_train.drop(columns=['Rainfall']))\n",
    "x_test_trf1 = imputation.transform(x_test.drop(columns=['Rainfall']))\n",
    "\n",
    "from sklearn.preprocessing import LabelEncoder\n",
    "label_encoder = LabelEncoder()\n",
    "y_train_encoded = label_encoder.fit_transform(y_train)\n",
    "y_test_encoded = label_encoder.transform(y_test)\n",
    "\n",
    "from sklearn.linear_model import LogisticRegression \n",
    "logr = LogisticRegression()\n",
    "logr.fit(x_train_trf1, y_train_encoded)\n",
    "y_pred = logr.predict(x_test_trf1)\n",
    "from sklearn.metrics import accuracy_score, confusion_matrix \n",
    "print(f'Test Accuracy: {accuracy_score(y_test_encoded, y_pred)}')\n",
    "print(f'Train Accuracy: {accuracy_score(y_train_encoded, logr.predict(x_train_trf1))}')\n",
    "print(confusion_matrix(y_test_encoded, y_pred))"
   ]
  },
  {
   "cell_type": "code",
   "execution_count": 79,
   "id": "57b6f3b5",
   "metadata": {},
   "outputs": [
    {
     "name": "stdout",
     "output_type": "stream",
     "text": [
      "Test Accuracy: 0.8541264657859582\n",
      "Train Accuracy: 0.8550250020873728\n",
      "[[19927  1135]\n",
      " [ 2796  3090]]\n"
     ]
    }
   ],
   "source": [
    "from sklearn.linear_model import LogisticRegression \n",
    "logr1 = LogisticRegression(C=10, solver='saga', tol=0.001, penalty='elasticnet', l1_ratio=0.05, max_iter=1000)\n",
    "logr1.fit(x_train_trf1, y_train_encoded)\n",
    "y_pred = logr1.predict(x_test_trf1)\n",
    "from sklearn.metrics import accuracy_score, confusion_matrix \n",
    "print(f'Test Accuracy: {accuracy_score(y_test_encoded, y_pred)}')\n",
    "print(f'Train Accuracy: {accuracy_score(y_train_encoded, logr1.predict(x_train_trf1))}')\n",
    "print(confusion_matrix(y_test_encoded, y_pred))"
   ]
  },
  {
   "cell_type": "code",
   "execution_count": 80,
   "id": "5761f355",
   "metadata": {},
   "outputs": [
    {
     "name": "stdout",
     "output_type": "stream",
     "text": [
      "Cross-validation scores: [0.85250464 0.85666574 0.85620187 0.85295482 0.85295482 0.85416087\n",
      " 0.85360423 0.86167548 0.85239818 0.85063549]\n",
      "Mean cross-validation score: 0.8543756145779924\n"
     ]
    }
   ],
   "source": [
    "from sklearn.model_selection import cross_val_score\n",
    "cv_scores = cross_val_score(logr1, x_train_trf1, y_train_encoded, cv=10, scoring='accuracy')\n",
    "print(f'Cross-validation scores: {cv_scores}')\n",
    "print(f'Mean cross-validation score: {cv_scores.mean()}')"
   ]
  },
  {
   "cell_type": "code",
   "execution_count": 97,
   "id": "f4210937",
   "metadata": {},
   "outputs": [
    {
     "data": {
      "text/plain": [
       "<Axes: xlabel='Importance', ylabel='Feature'>"
      ]
     },
     "execution_count": 97,
     "metadata": {},
     "output_type": "execute_result"
    },
    {
     "data": {
      "image/png": "[encoded data removed]",
      "text/plain": [
       "<Figure size 640x480 with 1 Axes>"
      ]
     },
     "metadata": {},
     "output_type": "display_data"
    }
   ],
   "source": [
    "import pandas as pd\n",
    "from collections import defaultdict\n",
    "continuous_cols = x_train.select_dtypes(include=['int', 'float']).columns.tolist()\n",
    "categorical_cols = x_train.select_dtypes(include='object').columns.tolist()\n",
    "ohe = imputation.named_transformers_['CategoricalPipeline'].named_steps['encoder']\n",
    "ohe_feature_names = ohe.get_feature_names_out(categorical_cols)\n",
    "all_feature_names = list(continuous_cols) + list(ohe_feature_names)\n",
    "feature_importances = logr1.coef_[0]  \n",
    "importance_dict = defaultdict(float)\n",
    "\n",
    "for feature_name, importance in zip(all_feature_names, feature_importances):\n",
    "    if '_' in feature_name:\n",
    "        original_feature = feature_name.split('_')[0]\n",
    "    else:\n",
    "        original_feature = feature_name\n",
    "    importance_dict[original_feature] += importance\n",
    "\n",
    "importance_df = pd.DataFrame({\n",
    "    'Feature': list(importance_dict.keys()),\n",
    "    'Importance': list(importance_dict.values())\n",
    "}).sort_values(by='Importance', ascending=False)\n",
    "sns.barplot(y=importance_df['Feature'], x=abs(importance_df['Importance']))"
   ]
  },
  {
   "cell_type": "code",
   "execution_count": 109,
   "id": "d14ca59e",
   "metadata": {},
   "outputs": [
    {
     "name": "stdout",
     "output_type": "stream",
     "text": [
      "Test Accuracy: 0.8522339320172183\n",
      "Train Accuracy: 0.8533272722212429\n",
      "[[19900  1162]\n",
      " [ 2820  3066]]\n"
     ]
    }
   ],
   "source": [
    "from sklearn.compose import ColumnTransformer\n",
    "from sklearn.pipeline import Pipeline\n",
    "from sklearn.experimental import enable_iterative_imputer\n",
    "from sklearn.impute import KNNImputer, SimpleImputer, IterativeImputer\n",
    "from sklearn.preprocessing import MinMaxScaler, PowerTransformer, OneHotEncoder\n",
    "from sklearn.preprocessing import KBinsDiscretizer\n",
    "import numpy as np\n",
    "\n",
    "newdf = df.copy()\n",
    "newdf.drop(columns=['Month','Rainfall','Temp3pm','Year','RainToday'], inplace=True)\n",
    "from sklearn.model_selection import train_test_split \n",
    "x_train, x_test, y_train, y_test = train_test_split(newdf.drop(columns=['RainTomorrow']), newdf['RainTomorrow'], test_size=0.2, random_state=42)\n",
    "\n",
    "continuous_pipeline = Pipeline([\n",
    "    ('imputer', IterativeImputer(max_iter=1000, tol=0.001)),\n",
    "    ('transformer', PowerTransformer()),\n",
    "    ('scaler', MinMaxScaler())\n",
    "])\n",
    "\n",
    "categorical_pipeline = Pipeline([\n",
    "    ('encoder', OneHotEncoder(sparse_output=False)),\n",
    "    ('imputer', KNNImputer())\n",
    "])\n",
    "\n",
    "imputation = ColumnTransformer([\n",
    "    ('ContinuousPipeline', continuous_pipeline, x_train.select_dtypes(include=['int', 'float']).columns),\n",
    "    ('CategoricalPipeline', categorical_pipeline, x_train.select_dtypes(include='object').columns)\n",
    "], remainder='passthrough')\n",
    "\n",
    "x_train_trf1 = imputation.fit_transform(x_train)\n",
    "x_test_trf1 = imputation.transform(x_test)\n",
    "\n",
    "from sklearn.preprocessing import LabelEncoder\n",
    "label_encoder = LabelEncoder()\n",
    "y_train_encoded = label_encoder.fit_transform(y_train)\n",
    "y_test_encoded = label_encoder.transform(y_test)\n",
    "\n",
    "from sklearn.linear_model import LogisticRegression \n",
    "logr1 = LogisticRegression(C=10, solver='saga', tol=0.001, penalty='elasticnet', l1_ratio=0.05, max_iter=1000, n_jobs=-1)\n",
    "logr1.fit(x_train_trf1, y_train_encoded)\n",
    "y_pred = logr1.predict(x_test_trf1)\n",
    "from sklearn.metrics import accuracy_score, confusion_matrix \n",
    "print(f'Test Accuracy: {accuracy_score(y_test_encoded, y_pred)}')\n",
    "print(f'Train Accuracy: {accuracy_score(y_train_encoded, logr1.predict(x_train_trf1))}')\n",
    "print(confusion_matrix(y_test_encoded, y_pred))"
   ]
  }
 ],
 "metadata": {
  "kernelspec": {
   "display_name": "Python 3",
   "language": "python",
   "name": "python3"
  },
  "language_info": {
   "codemirror_mode": {
    "name": "ipython",
    "version": 3
   },
   "file_extension": ".py",
   "mimetype": "text/x-python",
   "name": "python",
   "nbconvert_exporter": "python",
   "pygments_lexer": "ipython3",
   "version": "3.12.10"
  }
 },
 "nbformat": 4,
 "nbformat_minor": 5
}
